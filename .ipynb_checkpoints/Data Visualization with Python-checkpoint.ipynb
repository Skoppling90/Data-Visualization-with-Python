{
 "cells": [
  {
   "cell_type": "markdown",
   "metadata": {},
   "source": [
    "# Data Visualization with Python"
   ]
  },
  {
   "cell_type": "markdown",
   "metadata": {},
   "source": [
    "## Part 1 - import data and create DataFrame"
   ]
  },
  {
   "cell_type": "code",
   "execution_count": 277,
   "metadata": {},
   "outputs": [],
   "source": [
    "import pandas as pd\n",
    "import numpy as np\n",
    "\n",
    "url=\"https://cocl.us/datasciece_survey_data\"\n",
    "c=pd.read_csv(url)"
   ]
  },
  {
   "cell_type": "code",
   "execution_count": 278,
   "metadata": {},
   "outputs": [
    {
     "data": {
      "text/html": [
       "<div>\n",
       "<style scoped>\n",
       "    .dataframe tbody tr th:only-of-type {\n",
       "        vertical-align: middle;\n",
       "    }\n",
       "\n",
       "    .dataframe tbody tr th {\n",
       "        vertical-align: top;\n",
       "    }\n",
       "\n",
       "    .dataframe thead th {\n",
       "        text-align: right;\n",
       "    }\n",
       "</style>\n",
       "<table border=\"1\" class=\"dataframe\">\n",
       "  <thead>\n",
       "    <tr style=\"text-align: right;\">\n",
       "      <th></th>\n",
       "      <th>Timestamp</th>\n",
       "      <th>What's your level of interest for the following areas of Data Science? [Data Visualization]</th>\n",
       "      <th>What's your level of interest for the following areas of Data Science? [Machine Learning]</th>\n",
       "      <th>What's your level of interest for the following areas of Data Science? [Data Analysis / Statistics]</th>\n",
       "      <th>What's your level of interest for the following areas of Data Science? [Big Data (Spark / Hadoop)]</th>\n",
       "      <th>What's your level of interest for the following areas of Data Science? [Data Journalism]</th>\n",
       "      <th>What's your level of interest for the following areas of Data Science? [Deep Learning]</th>\n",
       "    </tr>\n",
       "  </thead>\n",
       "  <tbody>\n",
       "    <tr>\n",
       "      <th>0</th>\n",
       "      <td>2017/10/17 1:11:52 PM MDT</td>\n",
       "      <td>Very interested</td>\n",
       "      <td>Very interested</td>\n",
       "      <td>Somewhat interested</td>\n",
       "      <td>Not interested</td>\n",
       "      <td>Somewhat interested</td>\n",
       "      <td>Somewhat interested</td>\n",
       "    </tr>\n",
       "    <tr>\n",
       "      <th>1</th>\n",
       "      <td>2017/10/17 2:26:07 PM MDT</td>\n",
       "      <td>Very interested</td>\n",
       "      <td>Very interested</td>\n",
       "      <td>Very interested</td>\n",
       "      <td>Somewhat interested</td>\n",
       "      <td>Not interested</td>\n",
       "      <td>Very interested</td>\n",
       "    </tr>\n",
       "    <tr>\n",
       "      <th>2</th>\n",
       "      <td>2017/10/17 2:37:08 PM MDT</td>\n",
       "      <td>Not interested</td>\n",
       "      <td>Very interested</td>\n",
       "      <td>Somewhat interested</td>\n",
       "      <td>Very interested</td>\n",
       "      <td>Not interested</td>\n",
       "      <td>Very interested</td>\n",
       "    </tr>\n",
       "    <tr>\n",
       "      <th>3</th>\n",
       "      <td>2017/10/17 2:39:26 PM MDT</td>\n",
       "      <td>Very interested</td>\n",
       "      <td>Very interested</td>\n",
       "      <td>Very interested</td>\n",
       "      <td>Very interested</td>\n",
       "      <td>Somewhat interested</td>\n",
       "      <td>Very interested</td>\n",
       "    </tr>\n",
       "    <tr>\n",
       "      <th>4</th>\n",
       "      <td>2017/10/17 2:43:59 PM MDT</td>\n",
       "      <td>Somewhat interested</td>\n",
       "      <td>Very interested</td>\n",
       "      <td>Very interested</td>\n",
       "      <td>Very interested</td>\n",
       "      <td>Not interested</td>\n",
       "      <td>Somewhat interested</td>\n",
       "    </tr>\n",
       "  </tbody>\n",
       "</table>\n",
       "</div>"
      ],
      "text/plain": [
       "                   Timestamp  \\\n",
       "0  2017/10/17 1:11:52 PM MDT   \n",
       "1  2017/10/17 2:26:07 PM MDT   \n",
       "2  2017/10/17 2:37:08 PM MDT   \n",
       "3  2017/10/17 2:39:26 PM MDT   \n",
       "4  2017/10/17 2:43:59 PM MDT   \n",
       "\n",
       "  What's your level of interest for the following areas of Data Science? [Data Visualization]  \\\n",
       "0                                    Very interested                                            \n",
       "1                                    Very interested                                            \n",
       "2                                     Not interested                                            \n",
       "3                                    Very interested                                            \n",
       "4                                Somewhat interested                                            \n",
       "\n",
       "  What's your level of interest for the following areas of Data Science? [Machine Learning]  \\\n",
       "0                                    Very interested                                          \n",
       "1                                    Very interested                                          \n",
       "2                                    Very interested                                          \n",
       "3                                    Very interested                                          \n",
       "4                                    Very interested                                          \n",
       "\n",
       "  What's your level of interest for the following areas of Data Science? [Data Analysis / Statistics]  \\\n",
       "0                                Somewhat interested                                                    \n",
       "1                                    Very interested                                                    \n",
       "2                                Somewhat interested                                                    \n",
       "3                                    Very interested                                                    \n",
       "4                                    Very interested                                                    \n",
       "\n",
       "  What's your level of interest for the following areas of Data Science? [Big Data (Spark / Hadoop)]  \\\n",
       "0                                     Not interested                                                   \n",
       "1                                Somewhat interested                                                   \n",
       "2                                    Very interested                                                   \n",
       "3                                    Very interested                                                   \n",
       "4                                    Very interested                                                   \n",
       "\n",
       "  What's your level of interest for the following areas of Data Science? [Data Journalism]  \\\n",
       "0                                Somewhat interested                                         \n",
       "1                                     Not interested                                         \n",
       "2                                     Not interested                                         \n",
       "3                                Somewhat interested                                         \n",
       "4                                     Not interested                                         \n",
       "\n",
       "  What's your level of interest for the following areas of Data Science? [Deep Learning]  \n",
       "0                                Somewhat interested                                      \n",
       "1                                    Very interested                                      \n",
       "2                                    Very interested                                      \n",
       "3                                    Very interested                                      \n",
       "4                                Somewhat interested                                      "
      ]
     },
     "execution_count": 278,
     "metadata": {},
     "output_type": "execute_result"
    }
   ],
   "source": [
    "c.head()"
   ]
  },
  {
   "cell_type": "code",
   "execution_count": 279,
   "metadata": {},
   "outputs": [],
   "source": [
    "c.columns.values[1] = \"Data Visualization\"\n",
    "c.columns.values[2] = \"Machine Learning\"\n",
    "c.columns.values[3] = \"Data Analysis / Statistics\"\n",
    "c.columns.values[4] = \"Big Data (Spark / Hadoop)\"\n",
    "c.columns.values[5] = \"Data Journalism\"\n",
    "c.columns.values[6] = \"Deep Learning\""
   ]
  },
  {
   "cell_type": "code",
   "execution_count": 280,
   "metadata": {},
   "outputs": [
    {
     "data": {
      "text/html": [
       "<div>\n",
       "<style scoped>\n",
       "    .dataframe tbody tr th:only-of-type {\n",
       "        vertical-align: middle;\n",
       "    }\n",
       "\n",
       "    .dataframe tbody tr th {\n",
       "        vertical-align: top;\n",
       "    }\n",
       "\n",
       "    .dataframe thead th {\n",
       "        text-align: right;\n",
       "    }\n",
       "</style>\n",
       "<table border=\"1\" class=\"dataframe\">\n",
       "  <thead>\n",
       "    <tr style=\"text-align: right;\">\n",
       "      <th></th>\n",
       "      <th>Timestamp</th>\n",
       "      <th>Data Visualization</th>\n",
       "      <th>Machine Learning</th>\n",
       "      <th>Data Analysis / Statistics</th>\n",
       "      <th>Big Data (Spark / Hadoop)</th>\n",
       "      <th>Data Journalism</th>\n",
       "      <th>Deep Learning</th>\n",
       "    </tr>\n",
       "  </thead>\n",
       "  <tbody>\n",
       "    <tr>\n",
       "      <th>0</th>\n",
       "      <td>2017/10/17 1:11:52 PM MDT</td>\n",
       "      <td>Very interested</td>\n",
       "      <td>Very interested</td>\n",
       "      <td>Somewhat interested</td>\n",
       "      <td>Not interested</td>\n",
       "      <td>Somewhat interested</td>\n",
       "      <td>Somewhat interested</td>\n",
       "    </tr>\n",
       "    <tr>\n",
       "      <th>1</th>\n",
       "      <td>2017/10/17 2:26:07 PM MDT</td>\n",
       "      <td>Very interested</td>\n",
       "      <td>Very interested</td>\n",
       "      <td>Very interested</td>\n",
       "      <td>Somewhat interested</td>\n",
       "      <td>Not interested</td>\n",
       "      <td>Very interested</td>\n",
       "    </tr>\n",
       "    <tr>\n",
       "      <th>2</th>\n",
       "      <td>2017/10/17 2:37:08 PM MDT</td>\n",
       "      <td>Not interested</td>\n",
       "      <td>Very interested</td>\n",
       "      <td>Somewhat interested</td>\n",
       "      <td>Very interested</td>\n",
       "      <td>Not interested</td>\n",
       "      <td>Very interested</td>\n",
       "    </tr>\n",
       "    <tr>\n",
       "      <th>3</th>\n",
       "      <td>2017/10/17 2:39:26 PM MDT</td>\n",
       "      <td>Very interested</td>\n",
       "      <td>Very interested</td>\n",
       "      <td>Very interested</td>\n",
       "      <td>Very interested</td>\n",
       "      <td>Somewhat interested</td>\n",
       "      <td>Very interested</td>\n",
       "    </tr>\n",
       "    <tr>\n",
       "      <th>4</th>\n",
       "      <td>2017/10/17 2:43:59 PM MDT</td>\n",
       "      <td>Somewhat interested</td>\n",
       "      <td>Very interested</td>\n",
       "      <td>Very interested</td>\n",
       "      <td>Very interested</td>\n",
       "      <td>Not interested</td>\n",
       "      <td>Somewhat interested</td>\n",
       "    </tr>\n",
       "  </tbody>\n",
       "</table>\n",
       "</div>"
      ],
      "text/plain": [
       "                   Timestamp   Data Visualization Machine Learning  \\\n",
       "0  2017/10/17 1:11:52 PM MDT      Very interested  Very interested   \n",
       "1  2017/10/17 2:26:07 PM MDT      Very interested  Very interested   \n",
       "2  2017/10/17 2:37:08 PM MDT       Not interested  Very interested   \n",
       "3  2017/10/17 2:39:26 PM MDT      Very interested  Very interested   \n",
       "4  2017/10/17 2:43:59 PM MDT  Somewhat interested  Very interested   \n",
       "\n",
       "  Data Analysis / Statistics Big Data (Spark / Hadoop)      Data Journalism  \\\n",
       "0        Somewhat interested            Not interested  Somewhat interested   \n",
       "1            Very interested       Somewhat interested       Not interested   \n",
       "2        Somewhat interested           Very interested       Not interested   \n",
       "3            Very interested           Very interested  Somewhat interested   \n",
       "4            Very interested           Very interested       Not interested   \n",
       "\n",
       "         Deep Learning  \n",
       "0  Somewhat interested  \n",
       "1      Very interested  \n",
       "2      Very interested  \n",
       "3      Very interested  \n",
       "4  Somewhat interested  "
      ]
     },
     "execution_count": 280,
     "metadata": {},
     "output_type": "execute_result"
    }
   ],
   "source": [
    "c.head(5)"
   ]
  },
  {
   "cell_type": "code",
   "execution_count": 281,
   "metadata": {},
   "outputs": [],
   "source": [
    "DataVisualization=c.iloc[:, 1]\n",
    "MachineLearning=c.iloc[:, 2]\n",
    "DataAnalysisStatistics=c.iloc[:, 3]\n",
    "BigData=c.iloc[:, 4]\n",
    "DataJournalism=c.iloc[:, 5]\n",
    "DeepLearning=c.iloc[:, 6]"
   ]
  },
  {
   "cell_type": "code",
   "execution_count": 282,
   "metadata": {},
   "outputs": [],
   "source": [
    "DVVI=int(DataVisualization.str.count('Very interested').sum())\n",
    "DVSI=int(DataVisualization.str.count('Somewhat interested').sum())\n",
    "DVNI=int(DataVisualization.str.count('Not interested').sum())\n",
    "BDVI=int(BigData.str.count('Very interested').sum())\n",
    "BDSI=int(BigData.str.count('Somewhat interested').sum())\n",
    "BDNI=int(BigData.str.count('Not interested').sum())\n",
    "MLVI=int(MachineLearning.str.count('Very interested').sum())\n",
    "MLSI=int(MachineLearning.str.count('Somewhat interested').sum())\n",
    "MLNI=int(MachineLearning.str.count('Not interested').sum())\n",
    "DASVI=int(DataAnalysisStatistics.str.count('Very interested').sum())\n",
    "DASSI=int(DataAnalysisStatistics.str.count('Somewhat interested').sum())\n",
    "DASNI=int(DataAnalysisStatistics.str.count('Not interested').sum())\n",
    "DJVI=int(DataJournalism.str.count('Very interested').sum())\n",
    "DJSI=int(DataJournalism.str.count('Somewhat interested').sum())\n",
    "DJNI=int(DataJournalism.str.count('Not interested').sum())\n",
    "DLVI=int(DeepLearning.str.count('Very interested').sum())\n",
    "DLSI=int(DeepLearning.str.count('Somewhat interested').sum())\n",
    "DLNI=int(DeepLearning.str.count('Not interested').sum())"
   ]
  },
  {
   "cell_type": "code",
   "execution_count": 283,
   "metadata": {},
   "outputs": [],
   "source": [
    "data={'BigData (Spark / Hadoop)':[BDNI,BDSI,BDVI],\n",
    "      'Data Analysis/Statistics':[DASNI,DASSI,DASVI],\n",
    "      'Data Journalism':[DJNI,DJSI,DJVI], \n",
    "      'Data Visualization':[DVNI,DVSI,DVVI], \n",
    "      'Deep Learning':[DLNI,DLSI,DLVI], \n",
    "      'Machine Learning':[MLNI, MLSI, MLVI]}"
   ]
  },
  {
   "cell_type": "code",
   "execution_count": 340,
   "metadata": {},
   "outputs": [
    {
     "data": {
      "text/html": [
       "<div>\n",
       "<style scoped>\n",
       "    .dataframe tbody tr th:only-of-type {\n",
       "        vertical-align: middle;\n",
       "    }\n",
       "\n",
       "    .dataframe tbody tr th {\n",
       "        vertical-align: top;\n",
       "    }\n",
       "\n",
       "    .dataframe thead th {\n",
       "        text-align: right;\n",
       "    }\n",
       "</style>\n",
       "<table border=\"1\" class=\"dataframe\">\n",
       "  <thead>\n",
       "    <tr style=\"text-align: right;\">\n",
       "      <th></th>\n",
       "      <th>Not interested</th>\n",
       "      <th>Somewhat interested</th>\n",
       "      <th>Very interested</th>\n",
       "    </tr>\n",
       "  </thead>\n",
       "  <tbody>\n",
       "    <tr>\n",
       "      <th>Data Analysis/Statistics</th>\n",
       "      <td>60</td>\n",
       "      <td>444</td>\n",
       "      <td>1688</td>\n",
       "    </tr>\n",
       "    <tr>\n",
       "      <th>Data Visualization</th>\n",
       "      <td>102</td>\n",
       "      <td>734</td>\n",
       "      <td>1340</td>\n",
       "    </tr>\n",
       "    <tr>\n",
       "      <th>BigData (Spark / Hadoop)</th>\n",
       "      <td>127</td>\n",
       "      <td>729</td>\n",
       "      <td>1332</td>\n",
       "    </tr>\n",
       "    <tr>\n",
       "      <th>Machine Learning</th>\n",
       "      <td>74</td>\n",
       "      <td>477</td>\n",
       "      <td>1629</td>\n",
       "    </tr>\n",
       "    <tr>\n",
       "      <th>Data Journalism</th>\n",
       "      <td>610</td>\n",
       "      <td>1081</td>\n",
       "      <td>429</td>\n",
       "    </tr>\n",
       "    <tr>\n",
       "      <th>Deep Learning</th>\n",
       "      <td>136</td>\n",
       "      <td>770</td>\n",
       "      <td>1263</td>\n",
       "    </tr>\n",
       "  </tbody>\n",
       "</table>\n",
       "</div>"
      ],
      "text/plain": [
       "                          Not interested  Somewhat interested  Very interested\n",
       "Data Analysis/Statistics              60                  444             1688\n",
       "Data Visualization                   102                  734             1340\n",
       "BigData (Spark / Hadoop)             127                  729             1332\n",
       "Machine Learning                      74                  477             1629\n",
       "Data Journalism                      610                 1081              429\n",
       "Deep Learning                        136                  770             1263"
      ]
     },
     "execution_count": 340,
     "metadata": {},
     "output_type": "execute_result"
    }
   ],
   "source": [
    "df=pd.DataFrame.from_dict(data, orient='index',columns=['Not interested', 'Somewhat interested', 'Very interested'])\n",
    "df"
   ]
  },
  {
   "cell_type": "markdown",
   "metadata": {},
   "source": [
    "## Part 2"
   ]
  },
  {
   "cell_type": "code",
   "execution_count": 341,
   "metadata": {},
   "outputs": [],
   "source": [
    "from matplotlib import pyplot as plt"
   ]
  },
  {
   "cell_type": "code",
   "execution_count": 342,
   "metadata": {},
   "outputs": [
    {
     "data": {
      "text/html": [
       "<div>\n",
       "<style scoped>\n",
       "    .dataframe tbody tr th:only-of-type {\n",
       "        vertical-align: middle;\n",
       "    }\n",
       "\n",
       "    .dataframe tbody tr th {\n",
       "        vertical-align: top;\n",
       "    }\n",
       "\n",
       "    .dataframe thead th {\n",
       "        text-align: right;\n",
       "    }\n",
       "</style>\n",
       "<table border=\"1\" class=\"dataframe\">\n",
       "  <thead>\n",
       "    <tr style=\"text-align: right;\">\n",
       "      <th></th>\n",
       "      <th>Very interested</th>\n",
       "      <th>Somewhat interested</th>\n",
       "      <th>Not interested</th>\n",
       "    </tr>\n",
       "  </thead>\n",
       "  <tbody>\n",
       "    <tr>\n",
       "      <th>Data Analysis/Statistics</th>\n",
       "      <td>1688</td>\n",
       "      <td>444</td>\n",
       "      <td>60</td>\n",
       "    </tr>\n",
       "    <tr>\n",
       "      <th>Data Visualization</th>\n",
       "      <td>1340</td>\n",
       "      <td>734</td>\n",
       "      <td>102</td>\n",
       "    </tr>\n",
       "    <tr>\n",
       "      <th>BigData (Spark / Hadoop)</th>\n",
       "      <td>1332</td>\n",
       "      <td>729</td>\n",
       "      <td>127</td>\n",
       "    </tr>\n",
       "    <tr>\n",
       "      <th>Machine Learning</th>\n",
       "      <td>1629</td>\n",
       "      <td>477</td>\n",
       "      <td>74</td>\n",
       "    </tr>\n",
       "    <tr>\n",
       "      <th>Data Journalism</th>\n",
       "      <td>429</td>\n",
       "      <td>1081</td>\n",
       "      <td>610</td>\n",
       "    </tr>\n",
       "    <tr>\n",
       "      <th>Deep Learning</th>\n",
       "      <td>1263</td>\n",
       "      <td>770</td>\n",
       "      <td>136</td>\n",
       "    </tr>\n",
       "  </tbody>\n",
       "</table>\n",
       "</div>"
      ],
      "text/plain": [
       "                          Very interested  Somewhat interested  Not interested\n",
       "Data Analysis/Statistics             1688                  444              60\n",
       "Data Visualization                   1340                  734             102\n",
       "BigData (Spark / Hadoop)             1332                  729             127\n",
       "Machine Learning                     1629                  477              74\n",
       "Data Journalism                       429                 1081             610\n",
       "Deep Learning                        1263                  770             136"
      ]
     },
     "execution_count": 342,
     "metadata": {},
     "output_type": "execute_result"
    }
   ],
   "source": [
    "df = df[['Very interested','Somewhat interested','Not interested']]\n",
    "df"
   ]
  },
  {
   "cell_type": "code",
   "execution_count": 343,
   "metadata": {},
   "outputs": [
    {
     "data": {
      "text/html": [
       "<div>\n",
       "<style scoped>\n",
       "    .dataframe tbody tr th:only-of-type {\n",
       "        vertical-align: middle;\n",
       "    }\n",
       "\n",
       "    .dataframe tbody tr th {\n",
       "        vertical-align: top;\n",
       "    }\n",
       "\n",
       "    .dataframe thead th {\n",
       "        text-align: right;\n",
       "    }\n",
       "</style>\n",
       "<table border=\"1\" class=\"dataframe\">\n",
       "  <thead>\n",
       "    <tr style=\"text-align: right;\">\n",
       "      <th></th>\n",
       "      <th>Very interested</th>\n",
       "      <th>Somewhat interested</th>\n",
       "      <th>Not interested</th>\n",
       "    </tr>\n",
       "  </thead>\n",
       "  <tbody>\n",
       "    <tr>\n",
       "      <th>Data Analysis/Statistics</th>\n",
       "      <td>1688</td>\n",
       "      <td>444</td>\n",
       "      <td>60</td>\n",
       "    </tr>\n",
       "    <tr>\n",
       "      <th>Machine Learning</th>\n",
       "      <td>1629</td>\n",
       "      <td>477</td>\n",
       "      <td>74</td>\n",
       "    </tr>\n",
       "    <tr>\n",
       "      <th>Data Visualization</th>\n",
       "      <td>1340</td>\n",
       "      <td>734</td>\n",
       "      <td>102</td>\n",
       "    </tr>\n",
       "    <tr>\n",
       "      <th>BigData (Spark / Hadoop)</th>\n",
       "      <td>1332</td>\n",
       "      <td>729</td>\n",
       "      <td>127</td>\n",
       "    </tr>\n",
       "    <tr>\n",
       "      <th>Deep Learning</th>\n",
       "      <td>1263</td>\n",
       "      <td>770</td>\n",
       "      <td>136</td>\n",
       "    </tr>\n",
       "    <tr>\n",
       "      <th>Data Journalism</th>\n",
       "      <td>429</td>\n",
       "      <td>1081</td>\n",
       "      <td>610</td>\n",
       "    </tr>\n",
       "  </tbody>\n",
       "</table>\n",
       "</div>"
      ],
      "text/plain": [
       "                          Very interested  Somewhat interested  Not interested\n",
       "Data Analysis/Statistics             1688                  444              60\n",
       "Machine Learning                     1629                  477              74\n",
       "Data Visualization                   1340                  734             102\n",
       "BigData (Spark / Hadoop)             1332                  729             127\n",
       "Deep Learning                        1263                  770             136\n",
       "Data Journalism                       429                 1081             610"
      ]
     },
     "execution_count": 343,
     "metadata": {},
     "output_type": "execute_result"
    }
   ],
   "source": [
    "df=df.sort_values(by=['Very interested'], ascending=False)\n",
    "df"
   ]
  },
  {
   "cell_type": "code",
   "execution_count": 344,
   "metadata": {},
   "outputs": [
    {
     "data": {
      "text/plain": [
       "Timestamp                     2233\n",
       "Data Visualization            2176\n",
       "Machine Learning              2180\n",
       "Data Analysis / Statistics    2192\n",
       "Big Data (Spark / Hadoop)     2188\n",
       "Data Journalism               2120\n",
       "Deep Learning                 2169\n",
       "dtype: int64"
      ]
     },
     "execution_count": 344,
     "metadata": {},
     "output_type": "execute_result"
    }
   ],
   "source": [
    "number=c.count()\n",
    "number"
   ]
  },
  {
   "cell_type": "code",
   "execution_count": 345,
   "metadata": {},
   "outputs": [
    {
     "data": {
      "text/plain": [
       "[2192, 2180, 2176, 2188, 2169, 2120]"
      ]
     },
     "execution_count": 345,
     "metadata": {},
     "output_type": "execute_result"
    }
   ],
   "source": [
    "number_new=[number.iloc[3],number.iloc[2],number.iloc[1],number.iloc[4],number.iloc[6],number.iloc[5]]\n",
    "number_new"
   ]
  },
  {
   "cell_type": "code",
   "execution_count": 346,
   "metadata": {},
   "outputs": [
    {
     "data": {
      "text/plain": [
       "array([2192, 2180, 2176, 2188, 2169, 2120], dtype=int64)"
      ]
     },
     "execution_count": 346,
     "metadata": {},
     "output_type": "execute_result"
    }
   ],
   "source": [
    "array=np.array(number_new)\n",
    "array"
   ]
  },
  {
   "cell_type": "code",
   "execution_count": 347,
   "metadata": {},
   "outputs": [
    {
     "data": {
      "text/html": [
       "<div>\n",
       "<style scoped>\n",
       "    .dataframe tbody tr th:only-of-type {\n",
       "        vertical-align: middle;\n",
       "    }\n",
       "\n",
       "    .dataframe tbody tr th {\n",
       "        vertical-align: top;\n",
       "    }\n",
       "\n",
       "    .dataframe thead th {\n",
       "        text-align: right;\n",
       "    }\n",
       "</style>\n",
       "<table border=\"1\" class=\"dataframe\">\n",
       "  <thead>\n",
       "    <tr style=\"text-align: right;\">\n",
       "      <th></th>\n",
       "      <th>Very interested</th>\n",
       "      <th>Somewhat interested</th>\n",
       "      <th>Not interested</th>\n",
       "    </tr>\n",
       "  </thead>\n",
       "  <tbody>\n",
       "    <tr>\n",
       "      <th>Data Analysis/Statistics</th>\n",
       "      <td>1688</td>\n",
       "      <td>444</td>\n",
       "      <td>60</td>\n",
       "    </tr>\n",
       "    <tr>\n",
       "      <th>Machine Learning</th>\n",
       "      <td>1629</td>\n",
       "      <td>477</td>\n",
       "      <td>74</td>\n",
       "    </tr>\n",
       "    <tr>\n",
       "      <th>Data Visualization</th>\n",
       "      <td>1340</td>\n",
       "      <td>734</td>\n",
       "      <td>102</td>\n",
       "    </tr>\n",
       "    <tr>\n",
       "      <th>BigData (Spark / Hadoop)</th>\n",
       "      <td>1332</td>\n",
       "      <td>729</td>\n",
       "      <td>127</td>\n",
       "    </tr>\n",
       "    <tr>\n",
       "      <th>Deep Learning</th>\n",
       "      <td>1263</td>\n",
       "      <td>770</td>\n",
       "      <td>136</td>\n",
       "    </tr>\n",
       "    <tr>\n",
       "      <th>Data Journalism</th>\n",
       "      <td>429</td>\n",
       "      <td>1081</td>\n",
       "      <td>610</td>\n",
       "    </tr>\n",
       "  </tbody>\n",
       "</table>\n",
       "</div>"
      ],
      "text/plain": [
       "                          Very interested  Somewhat interested  Not interested\n",
       "Data Analysis/Statistics             1688                  444              60\n",
       "Machine Learning                     1629                  477              74\n",
       "Data Visualization                   1340                  734             102\n",
       "BigData (Spark / Hadoop)             1332                  729             127\n",
       "Deep Learning                        1263                  770             136\n",
       "Data Journalism                       429                 1081             610"
      ]
     },
     "execution_count": 347,
     "metadata": {},
     "output_type": "execute_result"
    }
   ],
   "source": [
    "df"
   ]
  },
  {
   "cell_type": "code",
   "execution_count": 348,
   "metadata": {},
   "outputs": [
    {
     "data": {
      "text/html": [
       "<div>\n",
       "<style scoped>\n",
       "    .dataframe tbody tr th:only-of-type {\n",
       "        vertical-align: middle;\n",
       "    }\n",
       "\n",
       "    .dataframe tbody tr th {\n",
       "        vertical-align: top;\n",
       "    }\n",
       "\n",
       "    .dataframe thead th {\n",
       "        text-align: right;\n",
       "    }\n",
       "</style>\n",
       "<table border=\"1\" class=\"dataframe\">\n",
       "  <thead>\n",
       "    <tr style=\"text-align: right;\">\n",
       "      <th></th>\n",
       "      <th>Very interested</th>\n",
       "      <th>Somewhat interested</th>\n",
       "      <th>Not interested</th>\n",
       "    </tr>\n",
       "  </thead>\n",
       "  <tbody>\n",
       "    <tr>\n",
       "      <th>Data Analysis/Statistics</th>\n",
       "      <td>77.01</td>\n",
       "      <td>20.26</td>\n",
       "      <td>2.74</td>\n",
       "    </tr>\n",
       "    <tr>\n",
       "      <th>Machine Learning</th>\n",
       "      <td>74.72</td>\n",
       "      <td>21.88</td>\n",
       "      <td>3.39</td>\n",
       "    </tr>\n",
       "    <tr>\n",
       "      <th>Data Visualization</th>\n",
       "      <td>61.58</td>\n",
       "      <td>33.73</td>\n",
       "      <td>4.69</td>\n",
       "    </tr>\n",
       "    <tr>\n",
       "      <th>BigData (Spark / Hadoop)</th>\n",
       "      <td>60.88</td>\n",
       "      <td>33.32</td>\n",
       "      <td>5.80</td>\n",
       "    </tr>\n",
       "    <tr>\n",
       "      <th>Deep Learning</th>\n",
       "      <td>58.23</td>\n",
       "      <td>35.50</td>\n",
       "      <td>6.27</td>\n",
       "    </tr>\n",
       "    <tr>\n",
       "      <th>Data Journalism</th>\n",
       "      <td>20.24</td>\n",
       "      <td>50.99</td>\n",
       "      <td>28.77</td>\n",
       "    </tr>\n",
       "  </tbody>\n",
       "</table>\n",
       "</div>"
      ],
      "text/plain": [
       "                          Very interested  Somewhat interested  Not interested\n",
       "Data Analysis/Statistics            77.01                20.26            2.74\n",
       "Machine Learning                    74.72                21.88            3.39\n",
       "Data Visualization                  61.58                33.73            4.69\n",
       "BigData (Spark / Hadoop)            60.88                33.32            5.80\n",
       "Deep Learning                       58.23                35.50            6.27\n",
       "Data Journalism                     20.24                50.99           28.77"
      ]
     },
     "execution_count": 348,
     "metadata": {},
     "output_type": "execute_result"
    }
   ],
   "source": [
    "df['Very interested']=round((df['Very interested'] / array)*100,2)\n",
    "df['Somewhat interested']=round((df['Somewhat interested'] / array)*100,2)\n",
    "df['Not interested']=round((df['Not interested'] / array)*100,2)\n",
    "df"
   ]
  },
  {
   "cell_type": "code",
   "execution_count": 361,
   "metadata": {},
   "outputs": [
    {
     "data": {
      "text/html": [
       "<div>\n",
       "<style scoped>\n",
       "    .dataframe tbody tr th:only-of-type {\n",
       "        vertical-align: middle;\n",
       "    }\n",
       "\n",
       "    .dataframe tbody tr th {\n",
       "        vertical-align: top;\n",
       "    }\n",
       "\n",
       "    .dataframe thead th {\n",
       "        text-align: right;\n",
       "    }\n",
       "</style>\n",
       "<table border=\"1\" class=\"dataframe\">\n",
       "  <thead>\n",
       "    <tr style=\"text-align: right;\">\n",
       "      <th></th>\n",
       "      <th>Very interested</th>\n",
       "      <th>Somewhat interested</th>\n",
       "      <th>Not interested</th>\n",
       "    </tr>\n",
       "  </thead>\n",
       "  <tbody>\n",
       "    <tr>\n",
       "      <th>Data Analysis/Statistics</th>\n",
       "      <td>77.01</td>\n",
       "      <td>20.26</td>\n",
       "      <td>2.74</td>\n",
       "    </tr>\n",
       "    <tr>\n",
       "      <th>Machine Learning</th>\n",
       "      <td>74.72</td>\n",
       "      <td>21.88</td>\n",
       "      <td>3.39</td>\n",
       "    </tr>\n",
       "    <tr>\n",
       "      <th>Data Visualization</th>\n",
       "      <td>61.58</td>\n",
       "      <td>33.73</td>\n",
       "      <td>4.69</td>\n",
       "    </tr>\n",
       "    <tr>\n",
       "      <th>BigData (Spark / Hadoop)</th>\n",
       "      <td>60.88</td>\n",
       "      <td>33.32</td>\n",
       "      <td>5.80</td>\n",
       "    </tr>\n",
       "    <tr>\n",
       "      <th>Deep Learning</th>\n",
       "      <td>58.23</td>\n",
       "      <td>35.50</td>\n",
       "      <td>6.27</td>\n",
       "    </tr>\n",
       "    <tr>\n",
       "      <th>Data Journalism</th>\n",
       "      <td>20.24</td>\n",
       "      <td>50.99</td>\n",
       "      <td>28.77</td>\n",
       "    </tr>\n",
       "  </tbody>\n",
       "</table>\n",
       "</div>"
      ],
      "text/plain": [
       "                          Very interested  Somewhat interested  Not interested\n",
       "Data Analysis/Statistics            77.01                20.26            2.74\n",
       "Machine Learning                    74.72                21.88            3.39\n",
       "Data Visualization                  61.58                33.73            4.69\n",
       "BigData (Spark / Hadoop)            60.88                33.32            5.80\n",
       "Deep Learning                       58.23                35.50            6.27\n",
       "Data Journalism                     20.24                50.99           28.77"
      ]
     },
     "execution_count": 361,
     "metadata": {},
     "output_type": "execute_result"
    }
   ],
   "source": [
    "df_plot=df\n",
    "df_plot"
   ]
  },
  {
   "cell_type": "code",
   "execution_count": 377,
   "metadata": {},
   "outputs": [
    {
     "data": {
      "image/png": "[encoded data removed]",
      "text/plain": [
       "<Figure size 1440x576 with 1 Axes>"
      ]
     },
     "metadata": {
      "needs_background": "light"
     },
     "output_type": "display_data"
    }
   ],
   "source": [
    "colors_list = ['#5cb85c', '#5bc0de', '#d9534f']\n",
    "ax0 = df.plot(kind='bar',\n",
    "              figsize=(20, 8),\n",
    "              width=0.8,\n",
    "              color=colors_list\n",
    "             )"
   ]
  },
  {
   "cell_type": "code",
   "execution_count": null,
   "metadata": {},
   "outputs": [],
   "source": [
    "ax0 = df_can_t.plot(kind='scatter',\n",
    "                    x='Year',\n",
    "                    y='Brazil',\n",
    "                    figsize=(14, 8),\n",
    "                    alpha=0.5,                  # transparency\n",
    "                    color='green',\n",
    "                    s=norm_brazil * 2000 + 10,  # pass in weights \n",
    "                    xlim=(1975, 2015)\n",
    "                   )"
   ]
  }
 ],
 "metadata": {
  "kernelspec": {
   "display_name": "Python 3",
   "language": "python",
   "name": "python3"
  },
  "language_info": {
   "codemirror_mode": {
    "name": "ipython",
    "version": 3
   },
   "file_extension": ".py",
   "mimetype": "text/x-python",
   "name": "python",
   "nbconvert_exporter": "python",
   "pygments_lexer": "ipython3",
   "version": "3.5.6"
  }
 },
 "nbformat": 4,
 "nbformat_minor": 2
}
